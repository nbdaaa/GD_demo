{
 "cells": [
  {
   "cell_type": "code",
   "execution_count": 5,
   "metadata": {
    "executionInfo": {
     "elapsed": 368,
     "status": "ok",
     "timestamp": 1698413670524,
     "user": {
      "displayName": "Ngọc Nguyễn",
      "userId": "00234888355303416315"
     },
     "user_tz": -420
    },
    "id": "Fm709yW12Oj4"
   },
   "outputs": [],
   "source": [
    "# Import Relevant libraries\n",
    "import tensorflow as tf\n",
    "import numpy as np\n",
    "import matplotlib.pyplot as plt"
   ]
  },
  {
   "cell_type": "code",
   "execution_count": 20,
   "metadata": {
    "colab": {
     "base_uri": "https://localhost:8080/",
     "height": 447
    },
    "executionInfo": {
     "elapsed": 407,
     "status": "ok",
     "timestamp": 1698413671324,
     "user": {
      "displayName": "Ngọc Nguyễn",
      "userId": "00234888355303416315"
     },
     "user_tz": -420
    },
    "id": "7GvGMV_02Y7_",
    "outputId": "e7c14d84-cc58-4da4-b731-0caf596027c9"
   },
   "outputs": [
    {
     "data": {
      "text/plain": [
       "<matplotlib.collections.PathCollection at 0x79120e3f3a00>"
      ]
     },
     "execution_count": 20,
     "metadata": {},
     "output_type": "execute_result"
    },
    {
     "data": {
      "image/png": "[encoded data removed]",
      "text/plain": [
       "<Figure size 640x480 with 1 Axes>"
      ]
     },
     "metadata": {},
     "output_type": "display_data"
    }
   ],
   "source": [
    "# Learning rate\n",
    "learning_rate = 0.01\n",
    "\n",
    "# Number of loops for training through all your data to update the parameters\n",
    "training_epochs = 100\n",
    "\n",
    "# the training dataset\n",
    "x_train = np.linspace(0, 10, 100)\n",
    "y_train = x_train + np.random.normal(0,1,100)\n",
    "\n",
    "# plot of data\n",
    "plt.scatter(x_train, y_train)"
   ]
  },
  {
   "cell_type": "code",
   "execution_count": 21,
   "metadata": {
    "colab": {
     "base_uri": "https://localhost:8080/"
    },
    "executionInfo": {
     "elapsed": 11,
     "status": "ok",
     "timestamp": 1698413671324,
     "user": {
      "displayName": "Ngọc Nguyễn",
      "userId": "00234888355303416315"
     },
     "user_tz": -420
    },
    "id": "3GHiSZJjQBgb",
    "outputId": "b0daf0ba-0556-4e32-c48a-443f6fadf1ae"
   },
   "outputs": [
    {
     "data": {
      "text/plain": [
       "array([ 0.        ,  0.1010101 ,  0.2020202 ,  0.3030303 ,  0.4040404 ,\n",
       "        0.50505051,  0.60606061,  0.70707071,  0.80808081,  0.90909091,\n",
       "        1.01010101,  1.11111111,  1.21212121,  1.31313131,  1.41414141,\n",
       "        1.51515152,  1.61616162,  1.71717172,  1.81818182,  1.91919192,\n",
       "        2.02020202,  2.12121212,  2.22222222,  2.32323232,  2.42424242,\n",
       "        2.52525253,  2.62626263,  2.72727273,  2.82828283,  2.92929293,\n",
       "        3.03030303,  3.13131313,  3.23232323,  3.33333333,  3.43434343,\n",
       "        3.53535354,  3.63636364,  3.73737374,  3.83838384,  3.93939394,\n",
       "        4.04040404,  4.14141414,  4.24242424,  4.34343434,  4.44444444,\n",
       "        4.54545455,  4.64646465,  4.74747475,  4.84848485,  4.94949495,\n",
       "        5.05050505,  5.15151515,  5.25252525,  5.35353535,  5.45454545,\n",
       "        5.55555556,  5.65656566,  5.75757576,  5.85858586,  5.95959596,\n",
       "        6.06060606,  6.16161616,  6.26262626,  6.36363636,  6.46464646,\n",
       "        6.56565657,  6.66666667,  6.76767677,  6.86868687,  6.96969697,\n",
       "        7.07070707,  7.17171717,  7.27272727,  7.37373737,  7.47474747,\n",
       "        7.57575758,  7.67676768,  7.77777778,  7.87878788,  7.97979798,\n",
       "        8.08080808,  8.18181818,  8.28282828,  8.38383838,  8.48484848,\n",
       "        8.58585859,  8.68686869,  8.78787879,  8.88888889,  8.98989899,\n",
       "        9.09090909,  9.19191919,  9.29292929,  9.39393939,  9.49494949,\n",
       "        9.5959596 ,  9.6969697 ,  9.7979798 ,  9.8989899 , 10.        ])"
      ]
     },
     "execution_count": 21,
     "metadata": {},
     "output_type": "execute_result"
    }
   ],
   "source": [
    "x_train"
   ]
  },
  {
   "cell_type": "code",
   "execution_count": 22,
   "metadata": {
    "colab": {
     "base_uri": "https://localhost:8080/"
    },
    "executionInfo": {
     "elapsed": 8,
     "status": "ok",
     "timestamp": 1698413671324,
     "user": {
      "displayName": "Ngọc Nguyễn",
      "userId": "00234888355303416315"
     },
     "user_tz": -420
    },
    "id": "oq3RL3sA3rFJ",
    "outputId": "19b5fb43-974b-49c1-cf01-3503a8aee9b3"
   },
   "outputs": [
    {
     "data": {
      "text/plain": [
       "array([ 0.99245469, -0.27978506,  1.9120047 ,  1.0669467 ,  0.88802651,\n",
       "        1.02783244,  1.44848473,  0.75230876,  1.47945376,  1.08600644,\n",
       "        0.62670727,  1.44264823,  0.60290618,  2.55105052,  2.91605117,\n",
       "        3.28550025,  0.99466277, -0.27462175,  1.59693737,  3.22912418,\n",
       "        2.04985058,  2.20718069,  2.56517102,  1.21071918,  1.06047867,\n",
       "        2.89592749,  3.39805508,  2.49657751,  2.10987998,  4.01808428,\n",
       "        3.66787809,  1.67660498,  1.22311461,  4.70024633,  3.98679653,\n",
       "        3.20058936,  3.34002183,  2.58744174,  4.07012702,  5.18324575,\n",
       "        3.75834927,  4.2517056 ,  3.98466149,  5.59485763,  3.71667007,\n",
       "        3.95275351,  4.79088238,  3.47456638,  5.25108605,  5.16163185,\n",
       "        7.85115298,  4.24935152,  6.00965165,  5.13806299,  6.50163776,\n",
       "        4.42672622,  7.16268057,  6.72964072,  3.76599911,  6.26692027,\n",
       "        5.78795072,  4.52648889,  5.5405189 ,  5.82540777,  7.04206539,\n",
       "        6.57822198,  6.3508463 ,  7.3121488 ,  8.37198755,  7.46739612,\n",
       "        6.81204946,  7.98479038,  6.0937798 ,  6.79865571,  8.91495097,\n",
       "        7.59927942,  7.25721618,  8.94129807,  6.92194571,  8.39633426,\n",
       "        7.96584552,  9.10001231,  9.26399135,  9.17388287,  8.8568397 ,\n",
       "        7.00605635,  7.99272972,  7.74437665, 10.40832041,  8.26584724,\n",
       "        7.80475392,  9.53265674, 10.32834959,  9.09145007,  9.94964226,\n",
       "        9.16163579,  8.78280774,  9.95949027, 10.78132602,  8.96694932])"
      ]
     },
     "execution_count": 22,
     "metadata": {},
     "output_type": "execute_result"
    }
   ],
   "source": [
    "y_train"
   ]
  },
  {
   "cell_type": "code",
   "execution_count": 23,
   "metadata": {
    "executionInfo": {
     "elapsed": 6,
     "status": "ok",
     "timestamp": 1698413671324,
     "user": {
      "displayName": "Ngọc Nguyễn",
      "userId": "00234888355303416315"
     },
     "user_tz": -420
    },
    "id": "bH624KOC3Zqz"
   },
   "outputs": [],
   "source": [
    "# declare weights\n",
    "a = tf.Variable(0.)\n",
    "b = tf.Variable(0.)"
   ]
  },
  {
   "cell_type": "code",
   "execution_count": 24,
   "metadata": {
    "executionInfo": {
     "elapsed": 6,
     "status": "ok",
     "timestamp": 1698413671324,
     "user": {
      "displayName": "Ngọc Nguyễn",
      "userId": "00234888355303416315"
     },
     "user_tz": -420
    },
    "id": "wGeEHvjm3bJO"
   },
   "outputs": [],
   "source": [
    "# Define linear regression expression y\n",
    "def linreg(x):\n",
    "    y = a*x + b\n",
    "    return y"
   ]
  },
  {
   "cell_type": "code",
   "execution_count": 25,
   "metadata": {
    "executionInfo": {
     "elapsed": 6,
     "status": "ok",
     "timestamp": 1698413671324,
     "user": {
      "displayName": "Ngọc Nguyễn",
      "userId": "00234888355303416315"
     },
     "user_tz": -420
    },
    "id": "ZwVHz46o3bz9"
   },
   "outputs": [],
   "source": [
    "# Define loss function (MSE)\n",
    "def squared_error(y_pred, y_true):\n",
    "    return tf.reduce_mean(tf.square(y_pred - y_true))"
   ]
  },
  {
   "cell_type": "code",
   "execution_count": 26,
   "metadata": {
    "colab": {
     "base_uri": "https://localhost:8080/"
    },
    "executionInfo": {
     "elapsed": 411,
     "status": "ok",
     "timestamp": 1698413671730,
     "user": {
      "displayName": "Ngọc Nguyễn",
      "userId": "00234888355303416315"
     },
     "user_tz": -420
    },
    "id": "9sX1Vvik3fEz",
    "outputId": "f2621558-27ee-4719-b788-37ab211328b4"
   },
   "outputs": [
    {
     "name": "stdout",
     "output_type": "stream",
     "text": [
      "Epoch count 0: Loss value: 34.551082611083984\n",
      "Epoch count 1: Loss value: 4.2321085929870605\n",
      "Epoch count 2: Loss value: 1.225008249282837\n",
      "Epoch count 3: Loss value: 0.9267320036888123\n",
      "Epoch count 4: Loss value: 0.8971199989318848\n",
      "Epoch count 5: Loss value: 0.8941547274589539\n",
      "Epoch count 6: Loss value: 0.8938325643539429\n",
      "Epoch count 7: Loss value: 0.8937729001045227\n",
      "Epoch count 8: Loss value: 0.8937394022941589\n",
      "Epoch count 9: Loss value: 0.8937088251113892\n",
      "Epoch count 10: Loss value: 0.8936787247657776\n",
      "Epoch count 11: Loss value: 0.893649160861969\n",
      "Epoch count 12: Loss value: 0.8936197757720947\n",
      "Epoch count 13: Loss value: 0.8935906887054443\n",
      "Epoch count 14: Loss value: 0.893561840057373\n",
      "Epoch count 15: Loss value: 0.8935333490371704\n",
      "Epoch count 16: Loss value: 0.8935051560401917\n",
      "Epoch count 17: Loss value: 0.893477201461792\n",
      "Epoch count 18: Loss value: 0.8934494853019714\n",
      "Epoch count 19: Loss value: 0.8934220671653748\n",
      "Epoch count 20: Loss value: 0.8933950066566467\n",
      "Epoch count 21: Loss value: 0.8933680653572083\n",
      "Epoch count 22: Loss value: 0.8933415412902832\n",
      "Epoch count 23: Loss value: 0.8933152556419373\n",
      "Epoch count 24: Loss value: 0.8932890892028809\n",
      "Epoch count 25: Loss value: 0.8932632207870483\n",
      "Epoch count 26: Loss value: 0.8932375907897949\n",
      "Epoch count 27: Loss value: 0.8932124376296997\n",
      "Epoch count 28: Loss value: 0.8931873440742493\n",
      "Epoch count 29: Loss value: 0.8931624889373779\n",
      "Epoch count 30: Loss value: 0.8931379914283752\n",
      "Epoch count 31: Loss value: 0.8931136131286621\n",
      "Epoch count 32: Loss value: 0.8930895924568176\n",
      "Epoch count 33: Loss value: 0.8930656909942627\n",
      "Epoch count 34: Loss value: 0.8930421471595764\n",
      "Epoch count 35: Loss value: 0.8930187225341797\n",
      "Epoch count 36: Loss value: 0.8929956555366516\n",
      "Epoch count 37: Loss value: 0.8929726481437683\n",
      "Epoch count 38: Loss value: 0.8929500579833984\n",
      "Epoch count 39: Loss value: 0.8929276466369629\n",
      "Epoch count 40: Loss value: 0.8929053544998169\n",
      "Epoch count 41: Loss value: 0.8928833603858948\n",
      "Epoch count 42: Loss value: 0.8928614854812622\n",
      "Epoch count 43: Loss value: 0.8928399085998535\n",
      "Epoch count 44: Loss value: 0.8928185105323792\n",
      "Epoch count 45: Loss value: 0.8927974700927734\n",
      "Epoch count 46: Loss value: 0.8927765488624573\n",
      "Epoch count 47: Loss value: 0.8927558064460754\n",
      "Epoch count 48: Loss value: 0.8927352428436279\n",
      "Epoch count 49: Loss value: 0.8927148580551147\n",
      "Epoch count 50: Loss value: 0.8926947712898254\n",
      "Epoch count 51: Loss value: 0.8926748633384705\n",
      "Epoch count 52: Loss value: 0.8926550149917603\n",
      "Epoch count 53: Loss value: 0.8926355838775635\n",
      "Epoch count 54: Loss value: 0.8926162123680115\n",
      "Epoch count 55: Loss value: 0.8925970196723938\n",
      "Epoch count 56: Loss value: 0.8925780653953552\n",
      "Epoch count 57: Loss value: 0.8925593495368958\n",
      "Epoch count 58: Loss value: 0.8925407528877258\n",
      "Epoch count 59: Loss value: 0.8925223350524902\n",
      "Epoch count 60: Loss value: 0.8925040364265442\n",
      "Epoch count 61: Loss value: 0.892486035823822\n",
      "Epoch count 62: Loss value: 0.8924682140350342\n",
      "Epoch count 63: Loss value: 0.8924505114555359\n",
      "Epoch count 64: Loss value: 0.8924329280853271\n",
      "Epoch count 65: Loss value: 0.8924157619476318\n",
      "Epoch count 66: Loss value: 0.8923985362052917\n",
      "Epoch count 67: Loss value: 0.892381489276886\n",
      "Epoch count 68: Loss value: 0.8923647403717041\n",
      "Epoch count 69: Loss value: 0.892348051071167\n",
      "Epoch count 70: Loss value: 0.8923315405845642\n",
      "Epoch count 71: Loss value: 0.8923152089118958\n",
      "Epoch count 72: Loss value: 0.8922990560531616\n",
      "Epoch count 73: Loss value: 0.892283022403717\n",
      "Epoch count 74: Loss value: 0.8922672271728516\n",
      "Epoch count 75: Loss value: 0.8922514319419861\n",
      "Epoch count 76: Loss value: 0.8922359347343445\n",
      "Epoch count 77: Loss value: 0.8922204375267029\n",
      "Epoch count 78: Loss value: 0.8922053575515747\n",
      "Epoch count 79: Loss value: 0.8921903371810913\n",
      "Epoch count 80: Loss value: 0.8921753168106079\n",
      "Epoch count 81: Loss value: 0.8921604752540588\n",
      "Epoch count 82: Loss value: 0.8921458721160889\n",
      "Epoch count 83: Loss value: 0.8921313285827637\n",
      "Epoch count 84: Loss value: 0.8921170234680176\n",
      "Epoch count 85: Loss value: 0.8921027183532715\n",
      "Epoch count 86: Loss value: 0.892088770866394\n",
      "Epoch count 87: Loss value: 0.8920748233795166\n",
      "Epoch count 88: Loss value: 0.8920609951019287\n",
      "Epoch count 89: Loss value: 0.8920474052429199\n",
      "Epoch count 90: Loss value: 0.8920338153839111\n",
      "Epoch count 91: Loss value: 0.8920204043388367\n",
      "Epoch count 92: Loss value: 0.8920072317123413\n",
      "Epoch count 93: Loss value: 0.8919939994812012\n",
      "Epoch count 94: Loss value: 0.8919810652732849\n",
      "Epoch count 95: Loss value: 0.8919682502746582\n",
      "Epoch count 96: Loss value: 0.8919554948806763\n",
      "Epoch count 97: Loss value: 0.8919429779052734\n",
      "Epoch count 98: Loss value: 0.8919304013252258\n",
      "Epoch count 99: Loss value: 0.8919181227684021\n"
     ]
    }
   ],
   "source": [
    "# train model\n",
    "for epoch in range(training_epochs):\n",
    "    # Compute loss within Gradient Tape context\n",
    "    with tf.GradientTape() as tape:\n",
    "        y_predicted = linreg(x_train)\n",
    "        loss = squared_error(y_predicted, y_train)\n",
    "\n",
    "        # Get gradients\n",
    "        gradients = tape.gradient(loss, [a,b])\n",
    "\n",
    "        # Adjust weights\n",
    "        a.assign_sub(gradients[0]*learning_rate)\n",
    "        b.assign_sub(gradients[1]*learning_rate)\n",
    "\n",
    "        # Print output\n",
    "        print(f\"Epoch count {epoch}: Loss value: {loss.numpy()}\")"
   ]
  },
  {
   "cell_type": "code",
   "execution_count": 27,
   "metadata": {
    "colab": {
     "base_uri": "https://localhost:8080/"
    },
    "executionInfo": {
     "elapsed": 8,
     "status": "ok",
     "timestamp": 1698413671730,
     "user": {
      "displayName": "Ngọc Nguyễn",
      "userId": "00234888355303416315"
     },
     "user_tz": -420
    },
    "id": "9KAEDU4I3nW1",
    "outputId": "2f2a5caf-0a0c-4d98-9da8-fc6420555dff"
   },
   "outputs": [
    {
     "name": "stdout",
     "output_type": "stream",
     "text": [
      "0.97350574\n",
      "0.19215864\n"
     ]
    }
   ],
   "source": [
    "print(a.numpy())\n",
    "print(b.numpy())\n"
   ]
  },
  {
   "cell_type": "code",
   "execution_count": 28,
   "metadata": {
    "colab": {
     "base_uri": "https://localhost:8080/",
     "height": 430
    },
    "executionInfo": {
     "elapsed": 5,
     "status": "ok",
     "timestamp": 1698413671730,
     "user": {
      "displayName": "Ngọc Nguyễn",
      "userId": "00234888355303416315"
     },
     "user_tz": -420
    },
    "id": "OaXGgBjR3yLp",
    "outputId": "3558b18e-d7a3-463a-b63a-bba5222e544c"
   },
   "outputs": [
    {
     "data": {
      "image/png": "[encoded data removed]",
      "text/plain": [
       "<Figure size 640x480 with 1 Axes>"
      ]
     },
     "metadata": {},
     "output_type": "display_data"
    }
   ],
   "source": [
    "# Plot the best fit line\n",
    "plt.scatter(x_train, y_train)\n",
    "plt.plot(x_train, linreg(x_train), 'r')\n",
    "plt.show()"
   ]
  }
 ],
 "metadata": {
  "colab": {
   "provenance": []
  },
  "kernelspec": {
   "display_name": "Python 3 (ipykernel)",
   "language": "python",
   "name": "python3"
  },
  "language_info": {
   "codemirror_mode": {
    "name": "ipython",
    "version": 3
   },
   "file_extension": ".py",
   "mimetype": "text/x-python",
   "name": "python",
   "nbconvert_exporter": "python",
   "pygments_lexer": "ipython3",
   "version": "3.11.5"
  }
 },
 "nbformat": 4,
 "nbformat_minor": 4
}
